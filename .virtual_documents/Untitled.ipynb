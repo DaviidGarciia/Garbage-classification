!pip install kagglehub


import kagglehub

# Download latest version
path = kagglehub.dataset_download("asdasdasasdas/garbage-classification")

print("Path to dataset files:", path)


import os
from PIL import Image
import matplotlib.pyplot as plt

# Ruta de las subcarpetas que representan las categorías
categories = [folder for folder in os.listdir(path) if os.path.isdir(os.path.join(path, folder))]

print(f"Categorías encontradas: {categories}")

# Mostrar una imagen por categoría
plt.figure(figsize=(10, 10))
for i, category in enumerate(categories):
    category_path = os.path.join(path, category)
    image_files = [f for f in os.listdir(category_path) if f.endswith(('.png', '.jpg', '.jpeg'))]
    
    if image_files:  # Verifica que haya imágenes en la carpeta
        img_path = os.path.join(category_path, image_files[0])  # Toma la primera imagen de la categoría
        img = Image.open(img_path)
        img = Image.image(img)
        plt.subplot(1, len(categories), i + 1)
        plt.imshow(img)
        plt.title(category)
        plt.axis('off')

plt.tight_layout()
plt.show()


import matplotlib.pyplot as plt
from PIL import Image

# Lista de nombres de clases (categorías)
classes = ['Paper', 'Glass', 'Metal', 'Plastic', 'Trash', 'Cardboard']  # Ajusta según tus categorías

# Visualizar las primeras 5 imágenes
for i in range(5):
    img = train_images[i]  # Sustituye con tu lista de imágenes cargadas
    label = train_labels[i]  # Sustituye con tus etiquetas correspondientes

    # Convertir la imagen a formato visualizable si es necesario
    if isinstance(img, (list, tuple)):  # Verifica si es una matriz
        img = Image.image(img)
    
    # Mostrar la imagen
    plt.imshow(img)
    plt.title(f'Label: {classes[label]}')  # Etiqueta la clase correspondiente
    plt.axis('off')
    plt.show()
