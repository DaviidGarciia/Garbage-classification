{
 "cells": [
  {
   "cell_type": "code",
   "execution_count": 10,
   "id": "87a0cc99-327d-446a-965c-daea7103ea5b",
   "metadata": {},
   "outputs": [
    {
     "name": "stdout",
     "output_type": "stream",
     "text": [
      " ____      _                 _        _                 _                      \n",
      "|  _ \\ ___| |__   ___   ___ | |_     / \\   ___ __ _  __| | ___ _ __ ___  _   _ \n",
      "| |_) / _ \\ '_ \\ / _ \\ / _ \\| __|   / _ \\ / __/ _` |/ _` |/ _ \\ '_ ` _ \\| | | |\n",
      "|  _ <  __/ |_) | (_) | (_) | |_ _ / ___ \\ (_| (_| | (_| |  __/ | | | | | |_| |\n",
      "|_| \\_\\___|_.__/ \\___/ \\___/ \\__(_)_/   \\_\\___\\__,_|\\__,_|\\___|_| |_| |_|\\__, |\n",
      "                                                                         |___/ \n",
      "\n",
      "Collecting kagglehub\n",
      "  Downloading kagglehub-0.3.4-py3-none-any.whl.metadata (22 kB)\n",
      "Requirement already satisfied: packaging in /home/reboot-student/anaconda3/lib/python3.12/site-packages (from kagglehub) (23.2)\n",
      "Requirement already satisfied: requests in /home/reboot-student/anaconda3/lib/python3.12/site-packages (from kagglehub) (2.32.2)\n",
      "Requirement already satisfied: tqdm in /home/reboot-student/anaconda3/lib/python3.12/site-packages (from kagglehub) (4.66.4)\n",
      "Requirement already satisfied: charset-normalizer<4,>=2 in /home/reboot-student/anaconda3/lib/python3.12/site-packages (from requests->kagglehub) (2.0.4)\n",
      "Requirement already satisfied: idna<4,>=2.5 in /home/reboot-student/anaconda3/lib/python3.12/site-packages (from requests->kagglehub) (3.7)\n",
      "Requirement already satisfied: urllib3<3,>=1.21.1 in /home/reboot-student/anaconda3/lib/python3.12/site-packages (from requests->kagglehub) (2.2.2)\n",
      "Requirement already satisfied: certifi>=2017.4.17 in /home/reboot-student/anaconda3/lib/python3.12/site-packages (from requests->kagglehub) (2024.8.30)\n",
      "Downloading kagglehub-0.3.4-py3-none-any.whl (43 kB)\n",
      "\u001b[2K   \u001b[38;2;114;156;31m━━━━━━━━━━━━━━━━━━━━━━━━━━━━━━━━━━━━━━━━\u001b[0m \u001b[32m43.0/43.0 kB\u001b[0m \u001b[31m1.1 MB/s\u001b[0m eta \u001b[36m0:00:00\u001b[0m[31m?\u001b[0m eta \u001b[36m-:--:--\u001b[0m\n",
      "\u001b[?25hInstalling collected packages: kagglehub\n",
      "Successfully installed kagglehub-0.3.4\n"
     ]
    }
   ],
   "source": [
    "!pip install kagglehub"
   ]
  },
  {
   "cell_type": "code",
   "execution_count": 12,
   "id": "0711721d-4998-49c6-9b7d-2bbeab4cca1e",
   "metadata": {},
   "outputs": [
    {
     "name": "stdout",
     "output_type": "stream",
     "text": [
      "Downloading from https://www.kaggle.com/api/v1/datasets/download/asdasdasasdas/garbage-classification?dataset_version_number=2...\n"
     ]
    },
    {
     "name": "stderr",
     "output_type": "stream",
     "text": [
      "100%|██████████████████████████████████████| 82.0M/82.0M [00:45<00:00, 1.89MB/s]"
     ]
    },
    {
     "name": "stdout",
     "output_type": "stream",
     "text": [
      "Extracting files...\n"
     ]
    },
    {
     "name": "stderr",
     "output_type": "stream",
     "text": [
      "\n"
     ]
    },
    {
     "name": "stdout",
     "output_type": "stream",
     "text": [
      "Path to dataset files: /home/reboot-student/.cache/kagglehub/datasets/asdasdasasdas/garbage-classification/versions/2\n"
     ]
    }
   ],
   "source": [
    "import kagglehub\n",
    "\n",
    "# Download latest version\n",
    "path = kagglehub.dataset_download(\"asdasdasasdas/garbage-classification\")\n",
    "\n",
    "print(\"Path to dataset files:\", path)"
   ]
  },
  {
   "cell_type": "code",
   "execution_count": 22,
   "id": "96e5361d-b629-43ba-a7ad-d4eaeb28ce24",
   "metadata": {},
   "outputs": [
    {
     "name": "stdout",
     "output_type": "stream",
     "text": [
      "Categorías encontradas: ['Garbage classification', 'garbage classification']\n"
     ]
    },
    {
     "data": {
      "text/plain": [
       "<Figure size 1000x1000 with 0 Axes>"
      ]
     },
     "metadata": {},
     "output_type": "display_data"
    }
   ],
   "source": [
    "import os\n",
    "from PIL import Image\n",
    "import matplotlib.pyplot as plt\n",
    "\n",
    "# Ruta de las subcarpetas que representan las categorías\n",
    "categories = [folder for folder in os.listdir(path) if os.path.isdir(os.path.join(path, folder))]\n",
    "\n",
    "print(f\"Categorías encontradas: {categories}\")\n",
    "\n",
    "# Mostrar una imagen por categoría\n",
    "plt.figure(figsize=(10, 10))\n",
    "for i, category in enumerate(categories):\n",
    "    category_path = os.path.join(path, category)\n",
    "    image_files = [f for f in os.listdir(category_path) if f.endswith(('.png', '.jpg', '.jpeg'))]\n",
    "    \n",
    "    if image_files:  # Verifica que haya imágenes en la carpeta\n",
    "        img_path = os.path.join(category_path, image_files[0])  # Toma la primera imagen de la categoría\n",
    "        img = Image.open(img_path)\n",
    "        img = Image.image(img)\n",
    "        plt.subplot(1, len(categories), i + 1)\n",
    "        plt.imshow(img)\n",
    "        plt.title(category)\n",
    "        plt.axis('off')\n",
    "\n",
    "plt.tight_layout()\n",
    "plt.show()"
   ]
  },
  {
   "cell_type": "code",
   "execution_count": 20,
   "id": "66af218d-0afa-45a1-8a04-f3ad723dcd7b",
   "metadata": {},
   "outputs": [
    {
     "ename": "NameError",
     "evalue": "name 'train_images' is not defined",
     "output_type": "error",
     "traceback": [
      "\u001b[0;31m---------------------------------------------------------------------------\u001b[0m",
      "\u001b[0;31mNameError\u001b[0m                                 Traceback (most recent call last)",
      "Cell \u001b[0;32mIn[20], line 9\u001b[0m\n\u001b[1;32m      7\u001b[0m \u001b[38;5;66;03m# Visualizar las primeras 5 imágenes\u001b[39;00m\n\u001b[1;32m      8\u001b[0m \u001b[38;5;28;01mfor\u001b[39;00m i \u001b[38;5;129;01min\u001b[39;00m \u001b[38;5;28mrange\u001b[39m(\u001b[38;5;241m5\u001b[39m):\n\u001b[0;32m----> 9\u001b[0m     img \u001b[38;5;241m=\u001b[39m train_images[i]  \u001b[38;5;66;03m# Sustituye con tu lista de imágenes cargadas\u001b[39;00m\n\u001b[1;32m     10\u001b[0m     label \u001b[38;5;241m=\u001b[39m train_labels[i]  \u001b[38;5;66;03m# Sustituye con tus etiquetas correspondientes\u001b[39;00m\n\u001b[1;32m     12\u001b[0m     \u001b[38;5;66;03m# Convertir la imagen a formato visualizable si es necesario\u001b[39;00m\n",
      "\u001b[0;31mNameError\u001b[0m: name 'train_images' is not defined"
     ]
    }
   ],
   "source": [
    "import matplotlib.pyplot as plt\n",
    "from PIL import Image\n",
    "\n",
    "# Lista de nombres de clases (categorías)\n",
    "classes = ['Paper', 'Glass', 'Metal', 'Plastic', 'Trash', 'Cardboard']  # Ajusta según tus categorías\n",
    "\n",
    "# Visualizar las primeras 5 imágenes\n",
    "for i in range(5):\n",
    "    img = train_images[i]  # Sustituye con tu lista de imágenes cargadas\n",
    "    label = train_labels[i]  # Sustituye con tus etiquetas correspondientes\n",
    "\n",
    "    # Convertir la imagen a formato visualizable si es necesario\n",
    "    if isinstance(img, (list, tuple)):  # Verifica si es una matriz\n",
    "        img = Image.image(img)\n",
    "    \n",
    "    # Mostrar la imagen\n",
    "    plt.imshow(img)\n",
    "    plt.title(f'Label: {classes[label]}')  # Etiqueta la clase correspondiente\n",
    "    plt.axis('off')\n",
    "    plt.show()"
   ]
  }
 ],
 "metadata": {
  "kernelspec": {
   "display_name": "Python 3 (ipykernel)",
   "language": "python",
   "name": "python3"
  },
  "language_info": {
   "codemirror_mode": {
    "name": "ipython",
    "version": 3
   },
   "file_extension": ".py",
   "mimetype": "text/x-python",
   "name": "python",
   "nbconvert_exporter": "python",
   "pygments_lexer": "ipython3",
   "version": "3.12.4"
  }
 },
 "nbformat": 4,
 "nbformat_minor": 5
}
